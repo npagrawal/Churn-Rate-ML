{
 "cells": [
  {
   "cell_type": "markdown",
   "id": "42f920d1",
   "metadata": {},
   "source": [
    "Data from: https://www.kaggle.com/datasets/undersc0re/predict-the-churn-risk-rate"
   ]
  },
  {
   "cell_type": "markdown",
   "id": "0c0bee13",
   "metadata": {},
   "source": [
    "## Import Packages"
   ]
  },
  {
   "cell_type": "code",
   "execution_count": 30,
   "id": "55160585",
   "metadata": {},
   "outputs": [],
   "source": [
    "import pandas as pd\n",
    "import numpy as np\n",
    "import seaborn as sns\n",
    "import matplotlib.pyplot as plt\n",
    "\n",
    "\n",
    "import scikitplot as skplt\n",
    "from sklearn import metrics\n",
    "from sklearn.model_selection import train_test_split, GridSearchCV\n",
    "from sklearn.preprocessing import StandardScaler, OneHotEncoder\n",
    "from sklearn.tree import DecisionTreeClassifier\n",
    "from sklearn.compose import ColumnTransformer\n",
    "from sklearn.pipeline import Pipeline\n",
    "from sklearn import set_config\n",
    "set_config(display= 'diagram')\n",
    "from sklearn.impute import SimpleImputer\n",
    "from sklearn.metrics import precision_score, recall_score, ConfusionMatrixDisplay, classification_report, plot_roc_curve\n",
    "from sklearn.linear_model import LogisticRegression\n",
    "from sklearn.neighbors import KNeighborsClassifier\n",
    "from sklearn.ensemble import RandomForestClassifier, BaggingClassifier"
   ]
  },
  {
   "cell_type": "markdown",
   "id": "400533bd",
   "metadata": {},
   "source": [
    "## Exploratory Data Analysis"
   ]
  },
  {
   "cell_type": "code",
   "execution_count": 2,
   "id": "182cd0ed",
   "metadata": {},
   "outputs": [
    {
     "data": {
      "text/html": [
       "<div>\n",
       "<style scoped>\n",
       "    .dataframe tbody tr th:only-of-type {\n",
       "        vertical-align: middle;\n",
       "    }\n",
       "\n",
       "    .dataframe tbody tr th {\n",
       "        vertical-align: top;\n",
       "    }\n",
       "\n",
       "    .dataframe thead th {\n",
       "        text-align: right;\n",
       "    }\n",
       "</style>\n",
       "<table border=\"1\" class=\"dataframe\">\n",
       "  <thead>\n",
       "    <tr style=\"text-align: right;\">\n",
       "      <th></th>\n",
       "      <th>Unnamed: 0</th>\n",
       "      <th>age</th>\n",
       "      <th>gender</th>\n",
       "      <th>security_no</th>\n",
       "      <th>region_category</th>\n",
       "      <th>membership_category</th>\n",
       "      <th>joining_date</th>\n",
       "      <th>joined_through_referral</th>\n",
       "      <th>referral_id</th>\n",
       "      <th>preferred_offer_types</th>\n",
       "      <th>...</th>\n",
       "      <th>avg_time_spent</th>\n",
       "      <th>avg_transaction_value</th>\n",
       "      <th>avg_frequency_login_days</th>\n",
       "      <th>points_in_wallet</th>\n",
       "      <th>used_special_discount</th>\n",
       "      <th>offer_application_preference</th>\n",
       "      <th>past_complaint</th>\n",
       "      <th>complaint_status</th>\n",
       "      <th>feedback</th>\n",
       "      <th>churn_risk_score</th>\n",
       "    </tr>\n",
       "  </thead>\n",
       "  <tbody>\n",
       "    <tr>\n",
       "      <th>0</th>\n",
       "      <td>0</td>\n",
       "      <td>18</td>\n",
       "      <td>F</td>\n",
       "      <td>XW0DQ7H</td>\n",
       "      <td>Village</td>\n",
       "      <td>Platinum Membership</td>\n",
       "      <td>2017-08-17</td>\n",
       "      <td>No</td>\n",
       "      <td>xxxxxxxx</td>\n",
       "      <td>Gift Vouchers/Coupons</td>\n",
       "      <td>...</td>\n",
       "      <td>300.63</td>\n",
       "      <td>53005.25</td>\n",
       "      <td>17.0</td>\n",
       "      <td>781.75</td>\n",
       "      <td>Yes</td>\n",
       "      <td>Yes</td>\n",
       "      <td>No</td>\n",
       "      <td>Not Applicable</td>\n",
       "      <td>Products always in Stock</td>\n",
       "      <td>0</td>\n",
       "    </tr>\n",
       "    <tr>\n",
       "      <th>1</th>\n",
       "      <td>1</td>\n",
       "      <td>32</td>\n",
       "      <td>F</td>\n",
       "      <td>5K0N3X1</td>\n",
       "      <td>City</td>\n",
       "      <td>Premium Membership</td>\n",
       "      <td>2017-08-28</td>\n",
       "      <td>?</td>\n",
       "      <td>CID21329</td>\n",
       "      <td>Gift Vouchers/Coupons</td>\n",
       "      <td>...</td>\n",
       "      <td>306.34</td>\n",
       "      <td>12838.38</td>\n",
       "      <td>10.0</td>\n",
       "      <td>NaN</td>\n",
       "      <td>Yes</td>\n",
       "      <td>No</td>\n",
       "      <td>Yes</td>\n",
       "      <td>Solved</td>\n",
       "      <td>Quality Customer Care</td>\n",
       "      <td>0</td>\n",
       "    </tr>\n",
       "    <tr>\n",
       "      <th>2</th>\n",
       "      <td>2</td>\n",
       "      <td>44</td>\n",
       "      <td>F</td>\n",
       "      <td>1F2TCL3</td>\n",
       "      <td>Town</td>\n",
       "      <td>No Membership</td>\n",
       "      <td>2016-11-11</td>\n",
       "      <td>Yes</td>\n",
       "      <td>CID12313</td>\n",
       "      <td>Gift Vouchers/Coupons</td>\n",
       "      <td>...</td>\n",
       "      <td>516.16</td>\n",
       "      <td>21027.00</td>\n",
       "      <td>22.0</td>\n",
       "      <td>500.69</td>\n",
       "      <td>No</td>\n",
       "      <td>Yes</td>\n",
       "      <td>Yes</td>\n",
       "      <td>Solved in Follow-up</td>\n",
       "      <td>Poor Website</td>\n",
       "      <td>1</td>\n",
       "    </tr>\n",
       "    <tr>\n",
       "      <th>3</th>\n",
       "      <td>3</td>\n",
       "      <td>37</td>\n",
       "      <td>M</td>\n",
       "      <td>VJGJ33N</td>\n",
       "      <td>City</td>\n",
       "      <td>No Membership</td>\n",
       "      <td>2016-10-29</td>\n",
       "      <td>Yes</td>\n",
       "      <td>CID3793</td>\n",
       "      <td>Gift Vouchers/Coupons</td>\n",
       "      <td>...</td>\n",
       "      <td>53.27</td>\n",
       "      <td>25239.56</td>\n",
       "      <td>6.0</td>\n",
       "      <td>567.66</td>\n",
       "      <td>No</td>\n",
       "      <td>Yes</td>\n",
       "      <td>Yes</td>\n",
       "      <td>Unsolved</td>\n",
       "      <td>Poor Website</td>\n",
       "      <td>1</td>\n",
       "    </tr>\n",
       "    <tr>\n",
       "      <th>4</th>\n",
       "      <td>4</td>\n",
       "      <td>31</td>\n",
       "      <td>F</td>\n",
       "      <td>SVZXCWB</td>\n",
       "      <td>City</td>\n",
       "      <td>No Membership</td>\n",
       "      <td>2017-09-12</td>\n",
       "      <td>No</td>\n",
       "      <td>xxxxxxxx</td>\n",
       "      <td>Credit/Debit Card Offers</td>\n",
       "      <td>...</td>\n",
       "      <td>113.13</td>\n",
       "      <td>24483.66</td>\n",
       "      <td>16.0</td>\n",
       "      <td>663.06</td>\n",
       "      <td>No</td>\n",
       "      <td>Yes</td>\n",
       "      <td>Yes</td>\n",
       "      <td>Solved</td>\n",
       "      <td>Poor Website</td>\n",
       "      <td>1</td>\n",
       "    </tr>\n",
       "    <tr>\n",
       "      <th>5</th>\n",
       "      <td>5</td>\n",
       "      <td>13</td>\n",
       "      <td>M</td>\n",
       "      <td>PSG1LGF</td>\n",
       "      <td>City</td>\n",
       "      <td>Gold Membership</td>\n",
       "      <td>2016-01-08</td>\n",
       "      <td>No</td>\n",
       "      <td>xxxxxxxx</td>\n",
       "      <td>Gift Vouchers/Coupons</td>\n",
       "      <td>...</td>\n",
       "      <td>433.62</td>\n",
       "      <td>13884.77</td>\n",
       "      <td>24.0</td>\n",
       "      <td>722.27</td>\n",
       "      <td>Yes</td>\n",
       "      <td>No</td>\n",
       "      <td>Yes</td>\n",
       "      <td>Unsolved</td>\n",
       "      <td>No reason specified</td>\n",
       "      <td>0</td>\n",
       "    </tr>\n",
       "    <tr>\n",
       "      <th>6</th>\n",
       "      <td>6</td>\n",
       "      <td>21</td>\n",
       "      <td>M</td>\n",
       "      <td>R3CX1EA</td>\n",
       "      <td>Town</td>\n",
       "      <td>Gold Membership</td>\n",
       "      <td>2015-03-19</td>\n",
       "      <td>Yes</td>\n",
       "      <td>CID24708</td>\n",
       "      <td>Gift Vouchers/Coupons</td>\n",
       "      <td>...</td>\n",
       "      <td>55.38</td>\n",
       "      <td>8982.50</td>\n",
       "      <td>28.0</td>\n",
       "      <td>756.21</td>\n",
       "      <td>Yes</td>\n",
       "      <td>No</td>\n",
       "      <td>Yes</td>\n",
       "      <td>Solved in Follow-up</td>\n",
       "      <td>No reason specified</td>\n",
       "      <td>0</td>\n",
       "    </tr>\n",
       "    <tr>\n",
       "      <th>7</th>\n",
       "      <td>7</td>\n",
       "      <td>42</td>\n",
       "      <td>M</td>\n",
       "      <td>4UJ1551</td>\n",
       "      <td>NaN</td>\n",
       "      <td>No Membership</td>\n",
       "      <td>2016-07-12</td>\n",
       "      <td>?</td>\n",
       "      <td>CID56614</td>\n",
       "      <td>Credit/Debit Card Offers</td>\n",
       "      <td>...</td>\n",
       "      <td>429.11</td>\n",
       "      <td>44554.82</td>\n",
       "      <td>24.0</td>\n",
       "      <td>568.08</td>\n",
       "      <td>No</td>\n",
       "      <td>Yes</td>\n",
       "      <td>Yes</td>\n",
       "      <td>Unsolved</td>\n",
       "      <td>Poor Product Quality</td>\n",
       "      <td>1</td>\n",
       "    </tr>\n",
       "    <tr>\n",
       "      <th>8</th>\n",
       "      <td>8</td>\n",
       "      <td>44</td>\n",
       "      <td>M</td>\n",
       "      <td>0481QNQ</td>\n",
       "      <td>Village</td>\n",
       "      <td>Silver Membership</td>\n",
       "      <td>2016-12-14</td>\n",
       "      <td>No</td>\n",
       "      <td>xxxxxxxx</td>\n",
       "      <td>Without Offers</td>\n",
       "      <td>...</td>\n",
       "      <td>191.07</td>\n",
       "      <td>18362.31</td>\n",
       "      <td>20.0</td>\n",
       "      <td>NaN</td>\n",
       "      <td>Yes</td>\n",
       "      <td>No</td>\n",
       "      <td>Yes</td>\n",
       "      <td>Solved in Follow-up</td>\n",
       "      <td>Poor Customer Service</td>\n",
       "      <td>0</td>\n",
       "    </tr>\n",
       "    <tr>\n",
       "      <th>9</th>\n",
       "      <td>9</td>\n",
       "      <td>45</td>\n",
       "      <td>F</td>\n",
       "      <td>ZHP4MCR</td>\n",
       "      <td>Town</td>\n",
       "      <td>No Membership</td>\n",
       "      <td>2016-11-30</td>\n",
       "      <td>No</td>\n",
       "      <td>xxxxxxxx</td>\n",
       "      <td>Gift Vouchers/Coupons</td>\n",
       "      <td>...</td>\n",
       "      <td>97.31</td>\n",
       "      <td>19244.16</td>\n",
       "      <td>28.0</td>\n",
       "      <td>706.23</td>\n",
       "      <td>No</td>\n",
       "      <td>Yes</td>\n",
       "      <td>Yes</td>\n",
       "      <td>No Information Available</td>\n",
       "      <td>Poor Customer Service</td>\n",
       "      <td>1</td>\n",
       "    </tr>\n",
       "  </tbody>\n",
       "</table>\n",
       "<p>10 rows × 24 columns</p>\n",
       "</div>"
      ],
      "text/plain": [
       "   Unnamed: 0  age gender security_no region_category  membership_category  \\\n",
       "0           0   18      F     XW0DQ7H         Village  Platinum Membership   \n",
       "1           1   32      F     5K0N3X1            City   Premium Membership   \n",
       "2           2   44      F     1F2TCL3            Town        No Membership   \n",
       "3           3   37      M     VJGJ33N            City        No Membership   \n",
       "4           4   31      F     SVZXCWB            City        No Membership   \n",
       "5           5   13      M     PSG1LGF            City      Gold Membership   \n",
       "6           6   21      M     R3CX1EA            Town      Gold Membership   \n",
       "7           7   42      M     4UJ1551             NaN        No Membership   \n",
       "8           8   44      M     0481QNQ         Village    Silver Membership   \n",
       "9           9   45      F     ZHP4MCR            Town        No Membership   \n",
       "\n",
       "  joining_date joined_through_referral referral_id     preferred_offer_types  \\\n",
       "0   2017-08-17                      No    xxxxxxxx     Gift Vouchers/Coupons   \n",
       "1   2017-08-28                       ?    CID21329     Gift Vouchers/Coupons   \n",
       "2   2016-11-11                     Yes    CID12313     Gift Vouchers/Coupons   \n",
       "3   2016-10-29                     Yes     CID3793     Gift Vouchers/Coupons   \n",
       "4   2017-09-12                      No    xxxxxxxx  Credit/Debit Card Offers   \n",
       "5   2016-01-08                      No    xxxxxxxx     Gift Vouchers/Coupons   \n",
       "6   2015-03-19                     Yes    CID24708     Gift Vouchers/Coupons   \n",
       "7   2016-07-12                       ?    CID56614  Credit/Debit Card Offers   \n",
       "8   2016-12-14                      No    xxxxxxxx            Without Offers   \n",
       "9   2016-11-30                      No    xxxxxxxx     Gift Vouchers/Coupons   \n",
       "\n",
       "   ... avg_time_spent avg_transaction_value avg_frequency_login_days  \\\n",
       "0  ...         300.63              53005.25                     17.0   \n",
       "1  ...         306.34              12838.38                     10.0   \n",
       "2  ...         516.16              21027.00                     22.0   \n",
       "3  ...          53.27              25239.56                      6.0   \n",
       "4  ...         113.13              24483.66                     16.0   \n",
       "5  ...         433.62              13884.77                     24.0   \n",
       "6  ...          55.38               8982.50                     28.0   \n",
       "7  ...         429.11              44554.82                     24.0   \n",
       "8  ...         191.07              18362.31                     20.0   \n",
       "9  ...          97.31              19244.16                     28.0   \n",
       "\n",
       "   points_in_wallet  used_special_discount  offer_application_preference  \\\n",
       "0            781.75                    Yes                           Yes   \n",
       "1               NaN                    Yes                            No   \n",
       "2            500.69                     No                           Yes   \n",
       "3            567.66                     No                           Yes   \n",
       "4            663.06                     No                           Yes   \n",
       "5            722.27                    Yes                            No   \n",
       "6            756.21                    Yes                            No   \n",
       "7            568.08                     No                           Yes   \n",
       "8               NaN                    Yes                            No   \n",
       "9            706.23                     No                           Yes   \n",
       "\n",
       "  past_complaint          complaint_status                  feedback  \\\n",
       "0             No            Not Applicable  Products always in Stock   \n",
       "1            Yes                    Solved     Quality Customer Care   \n",
       "2            Yes       Solved in Follow-up              Poor Website   \n",
       "3            Yes                  Unsolved              Poor Website   \n",
       "4            Yes                    Solved              Poor Website   \n",
       "5            Yes                  Unsolved       No reason specified   \n",
       "6            Yes       Solved in Follow-up       No reason specified   \n",
       "7            Yes                  Unsolved      Poor Product Quality   \n",
       "8            Yes       Solved in Follow-up     Poor Customer Service   \n",
       "9            Yes  No Information Available     Poor Customer Service   \n",
       "\n",
       "  churn_risk_score  \n",
       "0                0  \n",
       "1                0  \n",
       "2                1  \n",
       "3                1  \n",
       "4                1  \n",
       "5                0  \n",
       "6                0  \n",
       "7                1  \n",
       "8                0  \n",
       "9                1  \n",
       "\n",
       "[10 rows x 24 columns]"
      ]
     },
     "execution_count": 2,
     "metadata": {},
     "output_type": "execute_result"
    }
   ],
   "source": [
    "df = pd.read_csv(\"data/churn.csv\")\n",
    "df.head(10)"
   ]
  },
  {
   "cell_type": "markdown",
   "id": "b641dfc5",
   "metadata": {},
   "source": [
    "This dataset has nearly 37,000 rows of data. Let's take a look at what's missing."
   ]
  },
  {
   "cell_type": "code",
   "execution_count": 3,
   "id": "a0692674",
   "metadata": {},
   "outputs": [
    {
     "name": "stdout",
     "output_type": "stream",
     "text": [
      "<class 'pandas.core.frame.DataFrame'>\n",
      "RangeIndex: 36992 entries, 0 to 36991\n",
      "Data columns (total 24 columns):\n",
      " #   Column                        Non-Null Count  Dtype  \n",
      "---  ------                        --------------  -----  \n",
      " 0   Unnamed: 0                    36992 non-null  int64  \n",
      " 1   age                           36992 non-null  int64  \n",
      " 2   gender                        36992 non-null  object \n",
      " 3   security_no                   36992 non-null  object \n",
      " 4   region_category               31564 non-null  object \n",
      " 5   membership_category           36992 non-null  object \n",
      " 6   joining_date                  36992 non-null  object \n",
      " 7   joined_through_referral       36992 non-null  object \n",
      " 8   referral_id                   36992 non-null  object \n",
      " 9   preferred_offer_types         36704 non-null  object \n",
      " 10  medium_of_operation           36992 non-null  object \n",
      " 11  internet_option               36992 non-null  object \n",
      " 12  last_visit_time               36992 non-null  object \n",
      " 13  days_since_last_login         36992 non-null  int64  \n",
      " 14  avg_time_spent                36992 non-null  float64\n",
      " 15  avg_transaction_value         36992 non-null  float64\n",
      " 16  avg_frequency_login_days      36992 non-null  object \n",
      " 17  points_in_wallet              33549 non-null  float64\n",
      " 18  used_special_discount         36992 non-null  object \n",
      " 19  offer_application_preference  36992 non-null  object \n",
      " 20  past_complaint                36992 non-null  object \n",
      " 21  complaint_status              36992 non-null  object \n",
      " 22  feedback                      36992 non-null  object \n",
      " 23  churn_risk_score              36992 non-null  int64  \n",
      "dtypes: float64(3), int64(4), object(17)\n",
      "memory usage: 6.8+ MB\n"
     ]
    }
   ],
   "source": [
    "df.info()"
   ]
  },
  {
   "cell_type": "markdown",
   "id": "ddf0fc06",
   "metadata": {},
   "source": [
    "Looking at the above, we can already see there is missing data for the following columns:\n",
    "region_category, preferred_offer_types, and points_in_wallet. \n",
    "\n",
    "Each of these columns has its own labeling system for missing data. We'll replace these individually. We'll also need to remove rows that contain negatives values for predictors that should be positive since there's no way to read these with the information we currently have."
   ]
  },
  {
   "cell_type": "code",
   "execution_count": 4,
   "id": "6516076c",
   "metadata": {},
   "outputs": [],
   "source": [
    "# replacing missing values with np.nan\n",
    "df[\"gender\"] = df[\"gender\"].replace(\"Unknown\", np.nan)\n",
    "df[\"joined_through_referral\"] = df[\"joined_through_referral\"].replace(\"?\", np.nan)\n",
    "df[\"days_since_last_login\"] = df[\"days_since_last_login\"].replace(-999, np.nan)\n",
    "df[\"complaint_status\"] = df[\"complaint_status\"].replace(\"No Information Available\", np.nan)\n",
    "\n",
    "# removing numerical columns with unreadable negative values\n",
    "df = df.loc[df[\"avg_time_spent\"] >= 0]\n",
    "df = df.loc[df[\"points_in_wallet\"] >= 0]\n",
    "\n",
    "# converting avg_freq_login_days to rounded floats\n",
    "df[\"avg_frequency_login_days\"] = df[\"avg_frequency_login_days\"].replace('Error', np.nan)\n",
    "df[\"avg_frequency_login_days\"] = df[\"avg_frequency_login_days\"].astype(float)\n",
    "df[\"avg_frequency_login_days\"] = df[\"avg_frequency_login_days\"].round(2)\n",
    "df = df.loc[df[\"avg_frequency_login_days\"] >= 0]"
   ]
  },
  {
   "cell_type": "code",
   "execution_count": 5,
   "id": "595e8625",
   "metadata": {},
   "outputs": [],
   "source": [
    "# convert joining_date to age of account\n",
    "df[\"joining_date\"]= pd.to_datetime(df[\"joining_date\"])\n",
    "df[\"age_of_account_in_days\"] = (df[\"joining_date\"] - df[\"joining_date\"].min()).astype(str)\n",
    "df[\"age_of_account_in_days\"] = df[\"age_of_account_in_days\"].str.split('days').str[0]\n",
    "df[\"age_of_account_in_days\"] = df[\"age_of_account_in_days\"].astype(int)"
   ]
  },
  {
   "cell_type": "markdown",
   "id": "081638dc",
   "metadata": {},
   "source": [
    "Now let's look at the data again. We'll see that we dropped about 9000 rows. Not ideal, but without more information about what negative values denote, there's not much we can do."
   ]
  },
  {
   "cell_type": "code",
   "execution_count": 6,
   "id": "9f7614c2",
   "metadata": {},
   "outputs": [
    {
     "name": "stdout",
     "output_type": "stream",
     "text": [
      "<class 'pandas.core.frame.DataFrame'>\n",
      "Int64Index: 28271 entries, 0 to 36990\n",
      "Data columns (total 25 columns):\n",
      " #   Column                        Non-Null Count  Dtype         \n",
      "---  ------                        --------------  -----         \n",
      " 0   Unnamed: 0                    28271 non-null  int64         \n",
      " 1   age                           28271 non-null  int64         \n",
      " 2   gender                        28230 non-null  object        \n",
      " 3   security_no                   28271 non-null  object        \n",
      " 4   region_category               24079 non-null  object        \n",
      " 5   membership_category           28271 non-null  object        \n",
      " 6   joining_date                  28271 non-null  datetime64[ns]\n",
      " 7   joined_through_referral       24108 non-null  object        \n",
      " 8   referral_id                   28271 non-null  object        \n",
      " 9   preferred_offer_types         28053 non-null  object        \n",
      " 10  medium_of_operation           28271 non-null  object        \n",
      " 11  internet_option               28271 non-null  object        \n",
      " 12  last_visit_time               28271 non-null  object        \n",
      " 13  days_since_last_login         26716 non-null  float64       \n",
      " 14  avg_time_spent                28271 non-null  float64       \n",
      " 15  avg_transaction_value         28271 non-null  float64       \n",
      " 16  avg_frequency_login_days      28271 non-null  float64       \n",
      " 17  points_in_wallet              28271 non-null  float64       \n",
      " 18  used_special_discount         28271 non-null  object        \n",
      " 19  offer_application_preference  28271 non-null  object        \n",
      " 20  past_complaint                28271 non-null  object        \n",
      " 21  complaint_status              24770 non-null  object        \n",
      " 22  feedback                      28271 non-null  object        \n",
      " 23  churn_risk_score              28271 non-null  int64         \n",
      " 24  age_of_account_in_days        28271 non-null  int64         \n",
      "dtypes: datetime64[ns](1), float64(5), int64(4), object(15)\n",
      "memory usage: 5.6+ MB\n"
     ]
    }
   ],
   "source": [
    "df.info()"
   ]
  },
  {
   "cell_type": "markdown",
   "id": "c5606ad6",
   "metadata": {},
   "source": [
    "Let's look at the balance in our target variable \"churn_risk_score\". If it's unbalanced, we'll need to consider our sampling methods."
   ]
  },
  {
   "cell_type": "code",
   "execution_count": 7,
   "id": "3d0b85a7",
   "metadata": {},
   "outputs": [
    {
     "data": {
      "text/plain": [
       "1    0.539599\n",
       "0    0.460401\n",
       "Name: churn_risk_score, dtype: float64"
      ]
     },
     "execution_count": 7,
     "metadata": {},
     "output_type": "execute_result"
    }
   ],
   "source": [
    "df[\"churn_risk_score\"].value_counts(normalize=True)"
   ]
  },
  {
   "cell_type": "markdown",
   "id": "bea7bac3",
   "metadata": {},
   "source": [
    "Looks fairly balanced with about half the rows at risk of churn (class 1) and half not (class 0).\n",
    "\n",
    "Let's get rid of ID columns and date/time columns. We don't need the latter since we have average use frequency, age of account and days since last login, which are more useful in determining how often the customer uses this site."
   ]
  },
  {
   "cell_type": "code",
   "execution_count": 8,
   "id": "d9b094a2",
   "metadata": {},
   "outputs": [],
   "source": [
    "df = df.drop(columns = [\"Unnamed: 0\", \"security_no\", \"referral_id\", \"last_visit_time\", \"joining_date\"])"
   ]
  },
  {
   "cell_type": "code",
   "execution_count": 9,
   "id": "79518b01",
   "metadata": {},
   "outputs": [
    {
     "name": "stderr",
     "output_type": "stream",
     "text": [
      "/var/folders/x7/5j65n6x57hq9g5yst5z9k1m00000gn/T/ipykernel_92774/1134722465.py:1: FutureWarning: The default value of numeric_only in DataFrame.corr is deprecated. In a future version, it will default to False. Select only valid columns or specify the value of numeric_only to silence this warning.\n",
      "  df.corr()\n"
     ]
    },
    {
     "data": {
      "text/html": [
       "<div>\n",
       "<style scoped>\n",
       "    .dataframe tbody tr th:only-of-type {\n",
       "        vertical-align: middle;\n",
       "    }\n",
       "\n",
       "    .dataframe tbody tr th {\n",
       "        vertical-align: top;\n",
       "    }\n",
       "\n",
       "    .dataframe thead th {\n",
       "        text-align: right;\n",
       "    }\n",
       "</style>\n",
       "<table border=\"1\" class=\"dataframe\">\n",
       "  <thead>\n",
       "    <tr style=\"text-align: right;\">\n",
       "      <th></th>\n",
       "      <th>age</th>\n",
       "      <th>days_since_last_login</th>\n",
       "      <th>avg_time_spent</th>\n",
       "      <th>avg_transaction_value</th>\n",
       "      <th>avg_frequency_login_days</th>\n",
       "      <th>points_in_wallet</th>\n",
       "      <th>churn_risk_score</th>\n",
       "      <th>age_of_account_in_days</th>\n",
       "    </tr>\n",
       "  </thead>\n",
       "  <tbody>\n",
       "    <tr>\n",
       "      <th>age</th>\n",
       "      <td>1.000000</td>\n",
       "      <td>-0.002518</td>\n",
       "      <td>-0.003315</td>\n",
       "      <td>-0.004046</td>\n",
       "      <td>-0.001258</td>\n",
       "      <td>0.006333</td>\n",
       "      <td>0.003418</td>\n",
       "      <td>-0.009216</td>\n",
       "    </tr>\n",
       "    <tr>\n",
       "      <th>days_since_last_login</th>\n",
       "      <td>-0.002518</td>\n",
       "      <td>1.000000</td>\n",
       "      <td>-0.119600</td>\n",
       "      <td>-0.015025</td>\n",
       "      <td>0.016295</td>\n",
       "      <td>-0.006479</td>\n",
       "      <td>0.015995</td>\n",
       "      <td>-0.009328</td>\n",
       "    </tr>\n",
       "    <tr>\n",
       "      <th>avg_time_spent</th>\n",
       "      <td>-0.003315</td>\n",
       "      <td>-0.119600</td>\n",
       "      <td>1.000000</td>\n",
       "      <td>0.020754</td>\n",
       "      <td>-0.000505</td>\n",
       "      <td>0.000699</td>\n",
       "      <td>-0.013060</td>\n",
       "      <td>0.001078</td>\n",
       "    </tr>\n",
       "    <tr>\n",
       "      <th>avg_transaction_value</th>\n",
       "      <td>-0.004046</td>\n",
       "      <td>-0.015025</td>\n",
       "      <td>0.020754</td>\n",
       "      <td>1.000000</td>\n",
       "      <td>-0.140501</td>\n",
       "      <td>0.094030</td>\n",
       "      <td>-0.211759</td>\n",
       "      <td>0.002658</td>\n",
       "    </tr>\n",
       "    <tr>\n",
       "      <th>avg_frequency_login_days</th>\n",
       "      <td>-0.001258</td>\n",
       "      <td>0.016295</td>\n",
       "      <td>-0.000505</td>\n",
       "      <td>-0.140501</td>\n",
       "      <td>1.000000</td>\n",
       "      <td>-0.057895</td>\n",
       "      <td>0.145655</td>\n",
       "      <td>-0.006401</td>\n",
       "    </tr>\n",
       "    <tr>\n",
       "      <th>points_in_wallet</th>\n",
       "      <td>0.006333</td>\n",
       "      <td>-0.006479</td>\n",
       "      <td>0.000699</td>\n",
       "      <td>0.094030</td>\n",
       "      <td>-0.057895</td>\n",
       "      <td>1.000000</td>\n",
       "      <td>-0.315044</td>\n",
       "      <td>0.002564</td>\n",
       "    </tr>\n",
       "    <tr>\n",
       "      <th>churn_risk_score</th>\n",
       "      <td>0.003418</td>\n",
       "      <td>0.015995</td>\n",
       "      <td>-0.013060</td>\n",
       "      <td>-0.211759</td>\n",
       "      <td>0.145655</td>\n",
       "      <td>-0.315044</td>\n",
       "      <td>1.000000</td>\n",
       "      <td>0.009801</td>\n",
       "    </tr>\n",
       "    <tr>\n",
       "      <th>age_of_account_in_days</th>\n",
       "      <td>-0.009216</td>\n",
       "      <td>-0.009328</td>\n",
       "      <td>0.001078</td>\n",
       "      <td>0.002658</td>\n",
       "      <td>-0.006401</td>\n",
       "      <td>0.002564</td>\n",
       "      <td>0.009801</td>\n",
       "      <td>1.000000</td>\n",
       "    </tr>\n",
       "  </tbody>\n",
       "</table>\n",
       "</div>"
      ],
      "text/plain": [
       "                               age  days_since_last_login  avg_time_spent  \\\n",
       "age                       1.000000              -0.002518       -0.003315   \n",
       "days_since_last_login    -0.002518               1.000000       -0.119600   \n",
       "avg_time_spent           -0.003315              -0.119600        1.000000   \n",
       "avg_transaction_value    -0.004046              -0.015025        0.020754   \n",
       "avg_frequency_login_days -0.001258               0.016295       -0.000505   \n",
       "points_in_wallet          0.006333              -0.006479        0.000699   \n",
       "churn_risk_score          0.003418               0.015995       -0.013060   \n",
       "age_of_account_in_days   -0.009216              -0.009328        0.001078   \n",
       "\n",
       "                          avg_transaction_value  avg_frequency_login_days  \\\n",
       "age                                   -0.004046                 -0.001258   \n",
       "days_since_last_login                 -0.015025                  0.016295   \n",
       "avg_time_spent                         0.020754                 -0.000505   \n",
       "avg_transaction_value                  1.000000                 -0.140501   \n",
       "avg_frequency_login_days              -0.140501                  1.000000   \n",
       "points_in_wallet                       0.094030                 -0.057895   \n",
       "churn_risk_score                      -0.211759                  0.145655   \n",
       "age_of_account_in_days                 0.002658                 -0.006401   \n",
       "\n",
       "                          points_in_wallet  churn_risk_score  \\\n",
       "age                               0.006333          0.003418   \n",
       "days_since_last_login            -0.006479          0.015995   \n",
       "avg_time_spent                    0.000699         -0.013060   \n",
       "avg_transaction_value             0.094030         -0.211759   \n",
       "avg_frequency_login_days         -0.057895          0.145655   \n",
       "points_in_wallet                  1.000000         -0.315044   \n",
       "churn_risk_score                 -0.315044          1.000000   \n",
       "age_of_account_in_days            0.002564          0.009801   \n",
       "\n",
       "                          age_of_account_in_days  \n",
       "age                                    -0.009216  \n",
       "days_since_last_login                  -0.009328  \n",
       "avg_time_spent                          0.001078  \n",
       "avg_transaction_value                   0.002658  \n",
       "avg_frequency_login_days               -0.006401  \n",
       "points_in_wallet                        0.002564  \n",
       "churn_risk_score                        0.009801  \n",
       "age_of_account_in_days                  1.000000  "
      ]
     },
     "execution_count": 9,
     "metadata": {},
     "output_type": "execute_result"
    }
   ],
   "source": [
    "df.corr()"
   ]
  },
  {
   "cell_type": "markdown",
   "id": "d7cf5b6a",
   "metadata": {},
   "source": [
    "We're not seeing strong correlations between the numerical columns and our target but there's still room to explore further."
   ]
  },
  {
   "cell_type": "code",
   "execution_count": 10,
   "id": "dedc452a",
   "metadata": {},
   "outputs": [
    {
     "data": {
      "text/plain": [
       "count    28271.000000\n",
       "mean       690.678986\n",
       "std        186.826306\n",
       "min          6.432208\n",
       "25%        617.175000\n",
       "50%        698.700000\n",
       "75%        764.260000\n",
       "max       2069.069761\n",
       "Name: points_in_wallet, dtype: float64"
      ]
     },
     "execution_count": 10,
     "metadata": {},
     "output_type": "execute_result"
    }
   ],
   "source": [
    "df[\"points_in_wallet\"].describe()"
   ]
  },
  {
   "cell_type": "markdown",
   "id": "3ec84509",
   "metadata": {},
   "source": [
    "Looks like this category has some outliers. We'll use median to impute missing values in our numeric columns and mode for our categorical ones."
   ]
  },
  {
   "cell_type": "markdown",
   "id": "c9f64a38",
   "metadata": {},
   "source": [
    "## Train-Test Split and Imputation"
   ]
  },
  {
   "cell_type": "code",
   "execution_count": 11,
   "id": "bdad1006",
   "metadata": {},
   "outputs": [
    {
     "data": {
      "text/plain": [
       "Index(['age', 'gender', 'region_category', 'membership_category',\n",
       "       'joined_through_referral', 'preferred_offer_types',\n",
       "       'medium_of_operation', 'internet_option', 'days_since_last_login',\n",
       "       'avg_time_spent', 'avg_transaction_value', 'avg_frequency_login_days',\n",
       "       'points_in_wallet', 'used_special_discount',\n",
       "       'offer_application_preference', 'past_complaint', 'complaint_status',\n",
       "       'feedback', 'churn_risk_score', 'age_of_account_in_days'],\n",
       "      dtype='object')"
      ]
     },
     "execution_count": 11,
     "metadata": {},
     "output_type": "execute_result"
    }
   ],
   "source": [
    "df.columns"
   ]
  },
  {
   "cell_type": "code",
   "execution_count": 12,
   "id": "d6926c79",
   "metadata": {},
   "outputs": [],
   "source": [
    "num_cols = [\"age\", \"days_since_last_login\", \"avg_time_spent\", \"avg_transaction_value\", \"avg_frequency_login_days\", \n",
    "           \"points_in_wallet\", \"age_of_account_in_days\"]\n",
    "\n",
    "cat_cols = [\"gender\", \"region_category\", \"membership_category\", \"joined_through_referral\", \"preferred_offer_types\",\n",
    "           \"medium_of_operation\", \"internet_option\", \"used_special_discount\", \"offer_application_preference\",\n",
    "           \"past_complaint\", \"complaint_status\", \"feedback\"]"
   ]
  },
  {
   "cell_type": "code",
   "execution_count": 13,
   "id": "c3c009f1",
   "metadata": {},
   "outputs": [],
   "source": [
    "y = df[\"churn_risk_score\"]\n",
    "X = df.drop(columns=\"churn_risk_score\")\n",
    "\n",
    "X_train, X_test, y_train, y_test = train_test_split(X, y, stratify = y, test_size=0.5, random_state=42)"
   ]
  },
  {
   "cell_type": "code",
   "execution_count": 14,
   "id": "a3e9eccc",
   "metadata": {},
   "outputs": [],
   "source": [
    "numeric_transformer = Pipeline(steps=[\n",
    "    (\"imputer\", SimpleImputer(strategy=\"median\")),\n",
    "    (\"scaler\", StandardScaler())])\n",
    "\n",
    "categorical_transformer = Pipeline(steps=[\n",
    "    (\"imputer\", SimpleImputer(strategy=\"most_frequent\")),\n",
    "    (\"encoder\", OneHotEncoder(handle_unknown=\"ignore\"))])\n",
    "\n",
    "preprocessor = ColumnTransformer(\n",
    "    transformers=[\n",
    "        (\"num\", numeric_transformer, num_cols),\n",
    "        (\"cat\", categorical_transformer, cat_cols),\n",
    "    ]\n",
    ")"
   ]
  },
  {
   "cell_type": "markdown",
   "id": "89a77947",
   "metadata": {},
   "source": [
    "## First Model: Decision Tree"
   ]
  },
  {
   "cell_type": "code",
   "execution_count": 15,
   "id": "de52fa19",
   "metadata": {},
   "outputs": [
    {
     "name": "stdout",
     "output_type": "stream",
     "text": [
      "model score: 0.919\n"
     ]
    }
   ],
   "source": [
    "dtc = Pipeline(\n",
    "    steps=[(\"preprocessor\", preprocessor), (\"classifier\", DecisionTreeClassifier())]\n",
    ")\n",
    "\n",
    "dtc.fit(X_train, y_train)\n",
    "pred_dtc = dtc.predict(X_test)\n",
    "print(\"model score: %.3f\" % dtc.score(X_test, y_test))"
   ]
  },
  {
   "cell_type": "code",
   "execution_count": 16,
   "id": "a30c4898",
   "metadata": {},
   "outputs": [
    {
     "data": {
      "image/png": "[encoded data removed]",
      "text/plain": [
       "<Figure size 640x480 with 2 Axes>"
      ]
     },
     "metadata": {},
     "output_type": "display_data"
    }
   ],
   "source": [
    "ConfusionMatrixDisplay.from_estimator(dtc, X_test, y_test);"
   ]
  },
  {
   "cell_type": "code",
   "execution_count": 17,
   "id": "cb38f2f4",
   "metadata": {},
   "outputs": [
    {
     "name": "stdout",
     "output_type": "stream",
     "text": [
      "              precision    recall  f1-score   support\n",
      "\n",
      "           0       0.91      0.92      0.91      6508\n",
      "           1       0.93      0.92      0.92      7628\n",
      "\n",
      "    accuracy                           0.92     14136\n",
      "   macro avg       0.92      0.92      0.92     14136\n",
      "weighted avg       0.92      0.92      0.92     14136\n",
      "\n"
     ]
    }
   ],
   "source": [
    "print(classification_report(y_test, pred_dtc))"
   ]
  },
  {
   "cell_type": "markdown",
   "id": "f82ed265",
   "metadata": {},
   "source": [
    "If churn_risk_score is between 0 and 1, we can assume that 1 denotes a customer that is at risk of churn while 0 represents one that is not. \n",
    "\n",
    "This model is preforming well! We're seeing an accuracy score of nearly 92% above and solid precision, recall, and f-1. Our model seems to mislabel data in equal measure between false positives and false negatives."
   ]
  },
  {
   "cell_type": "markdown",
   "id": "0a7e8b59",
   "metadata": {},
   "source": [
    "## Model 2: Logistic Regression"
   ]
  },
  {
   "cell_type": "code",
   "execution_count": 18,
   "id": "a037c2e9",
   "metadata": {},
   "outputs": [
    {
     "name": "stdout",
     "output_type": "stream",
     "text": [
      "model score: 0.891\n"
     ]
    },
    {
     "name": "stderr",
     "output_type": "stream",
     "text": [
      "/opt/anaconda3/envs/narnia/lib/python3.10/site-packages/sklearn/linear_model/_logistic.py:814: ConvergenceWarning: lbfgs failed to converge (status=1):\n",
      "STOP: TOTAL NO. of ITERATIONS REACHED LIMIT.\n",
      "\n",
      "Increase the number of iterations (max_iter) or scale the data as shown in:\n",
      "    https://scikit-learn.org/stable/modules/preprocessing.html\n",
      "Please also refer to the documentation for alternative solver options:\n",
      "    https://scikit-learn.org/stable/modules/linear_model.html#logistic-regression\n",
      "  n_iter_i = _check_optimize_result(\n"
     ]
    }
   ],
   "source": [
    "lr = Pipeline(\n",
    "    steps=[(\"preprocessor\", preprocessor), (\"classifier\", LogisticRegression())]\n",
    ")\n",
    "\n",
    "lr.fit(X_train, y_train)\n",
    "pred_lr = lr.predict(X_test)\n",
    "print(\"model score: %.3f\" % lr.score(X_test, y_test))"
   ]
  },
  {
   "cell_type": "code",
   "execution_count": 19,
   "id": "b9222e01",
   "metadata": {},
   "outputs": [
    {
     "data": {
      "image/png": "[encoded data removed]",
      "text/plain": [
       "<Figure size 640x480 with 2 Axes>"
      ]
     },
     "metadata": {},
     "output_type": "display_data"
    }
   ],
   "source": [
    "ConfusionMatrixDisplay.from_estimator(lr, X_test, y_test);"
   ]
  },
  {
   "cell_type": "code",
   "execution_count": 20,
   "id": "c88caba8",
   "metadata": {},
   "outputs": [
    {
     "name": "stdout",
     "output_type": "stream",
     "text": [
      "              precision    recall  f1-score   support\n",
      "\n",
      "           0       0.86      0.92      0.89      6508\n",
      "           1       0.92      0.87      0.90      7628\n",
      "\n",
      "    accuracy                           0.89     14136\n",
      "   macro avg       0.89      0.89      0.89     14136\n",
      "weighted avg       0.89      0.89      0.89     14136\n",
      "\n"
     ]
    }
   ],
   "source": [
    "print(classification_report(y_test, pred_lr))"
   ]
  },
  {
   "cell_type": "markdown",
   "id": "70e4d44e",
   "metadata": {},
   "source": [
    "This model performs slightly worse than our Decision Tree model, with considerably more false negatives. While precision for class 1 is slightly better here, the other scores are overall worse."
   ]
  },
  {
   "cell_type": "markdown",
   "id": "37b865b3",
   "metadata": {},
   "source": [
    "## Model 3: KNN"
   ]
  },
  {
   "cell_type": "code",
   "execution_count": 21,
   "id": "da074dde",
   "metadata": {},
   "outputs": [
    {
     "name": "stderr",
     "output_type": "stream",
     "text": [
      "/opt/anaconda3/envs/narnia/lib/python3.10/site-packages/sklearn/neighbors/_classification.py:228: FutureWarning: Unlike other reduction functions (e.g. `skew`, `kurtosis`), the default behavior of `mode` typically preserves the axis it acts along. In SciPy 1.11.0, this behavior will change: the default value of `keepdims` will become False, the `axis` over which the statistic is taken will be eliminated, and the value None will no longer be accepted. Set `keepdims` to True or False to avoid this warning.\n",
      "  mode, _ = stats.mode(_y[neigh_ind, k], axis=1)\n",
      "/opt/anaconda3/envs/narnia/lib/python3.10/site-packages/sklearn/neighbors/_classification.py:228: FutureWarning: Unlike other reduction functions (e.g. `skew`, `kurtosis`), the default behavior of `mode` typically preserves the axis it acts along. In SciPy 1.11.0, this behavior will change: the default value of `keepdims` will become False, the `axis` over which the statistic is taken will be eliminated, and the value None will no longer be accepted. Set `keepdims` to True or False to avoid this warning.\n",
      "  mode, _ = stats.mode(_y[neigh_ind, k], axis=1)\n"
     ]
    },
    {
     "name": "stdout",
     "output_type": "stream",
     "text": [
      "model score: 0.787\n"
     ]
    }
   ],
   "source": [
    "knn = Pipeline(\n",
    "    steps=[(\"preprocessor\", preprocessor), (\"classifier\", KNeighborsClassifier())]\n",
    ")\n",
    "\n",
    "knn.fit(X_train, y_train)\n",
    "pred_knn = knn.predict(X_test)\n",
    "print(\"model score: %.3f\" % knn.score(X_test, y_test))"
   ]
  },
  {
   "cell_type": "code",
   "execution_count": 22,
   "id": "48fa7883",
   "metadata": {},
   "outputs": [
    {
     "name": "stderr",
     "output_type": "stream",
     "text": [
      "/opt/anaconda3/envs/narnia/lib/python3.10/site-packages/sklearn/neighbors/_classification.py:228: FutureWarning: Unlike other reduction functions (e.g. `skew`, `kurtosis`), the default behavior of `mode` typically preserves the axis it acts along. In SciPy 1.11.0, this behavior will change: the default value of `keepdims` will become False, the `axis` over which the statistic is taken will be eliminated, and the value None will no longer be accepted. Set `keepdims` to True or False to avoid this warning.\n",
      "  mode, _ = stats.mode(_y[neigh_ind, k], axis=1)\n"
     ]
    },
    {
     "data": {
      "image/png": "[encoded data removed]",
      "text/plain": [
       "<Figure size 640x480 with 2 Axes>"
      ]
     },
     "metadata": {},
     "output_type": "display_data"
    }
   ],
   "source": [
    "ConfusionMatrixDisplay.from_estimator(knn, X_test, y_test);"
   ]
  },
  {
   "cell_type": "code",
   "execution_count": 23,
   "id": "b5e6ba02",
   "metadata": {},
   "outputs": [
    {
     "name": "stdout",
     "output_type": "stream",
     "text": [
      "              precision    recall  f1-score   support\n",
      "\n",
      "           0       0.81      0.70      0.75      6508\n",
      "           1       0.77      0.86      0.81      7628\n",
      "\n",
      "    accuracy                           0.79     14136\n",
      "   macro avg       0.79      0.78      0.78     14136\n",
      "weighted avg       0.79      0.79      0.79     14136\n",
      "\n"
     ]
    }
   ],
   "source": [
    "print(classification_report(y_test, pred_knn))"
   ]
  },
  {
   "cell_type": "markdown",
   "id": "70abba2e",
   "metadata": {},
   "source": [
    "This model also performs worse than our Decision Tree, with lower scores all around."
   ]
  },
  {
   "cell_type": "markdown",
   "id": "dd5cded2",
   "metadata": {},
   "source": [
    "So far, our Decision Tree is our best model with a score of nearly 92%. It is slightly skewed towards mislabeling positives but is fairly even overall between its incorrect labeling - nearly 1k of the test set was mislabeled.\n",
    "\n",
    "Since we're trying to understand customers who are at risk of churn, it matters more to us that we have an accurate model for telling us who is at risk versus who is not. We cannot risk false negatives because if we think a customer is not at risk of churn but they actually are, we won't be able to successfuly re-target them and retain their business. If we re-target customers who are not at risk thinking they are, it is unlikely to cause us to lose their business.\n",
    "\n",
    "As such, we need a model that minimizes false negatives."
   ]
  },
  {
   "cell_type": "markdown",
   "id": "a56e85e9",
   "metadata": {},
   "source": [
    "## Model 4: Random Forest"
   ]
  },
  {
   "cell_type": "code",
   "execution_count": 24,
   "id": "184e25c2",
   "metadata": {},
   "outputs": [
    {
     "name": "stdout",
     "output_type": "stream",
     "text": [
      "model score: 0.939\n"
     ]
    }
   ],
   "source": [
    "rf = Pipeline(\n",
    "    steps = [(\"preprocessor\", preprocessor), \n",
    "             ('model', RandomForestClassifier(n_estimators = 150, random_state= 42))])\n",
    "\n",
    "rf.fit(X_train, y_train);\n",
    "pred_rf = rf.predict(X_test)\n",
    "print(\"model score: %.3f\" % rf.score(X_test, y_test))"
   ]
  },
  {
   "cell_type": "markdown",
   "id": "1884830e",
   "metadata": {},
   "source": [
    "Let's try increasing the number of estimators to see if that improves the model."
   ]
  },
  {
   "cell_type": "code",
   "execution_count": 25,
   "id": "21198f8d",
   "metadata": {},
   "outputs": [
    {
     "name": "stdout",
     "output_type": "stream",
     "text": [
      "model score: 0.939\n"
     ]
    }
   ],
   "source": [
    "rf2 = Pipeline(\n",
    "    steps = [(\"preprocessor\", preprocessor), \n",
    "             ('model', RandomForestClassifier(n_estimators = 400, random_state= 42))])\n",
    "\n",
    "rf2.fit(X_train, y_train);\n",
    "pred_rf2 = rf2.predict(X_test)\n",
    "print(\"model score: %.3f\" % rf2.score(X_test, y_test))"
   ]
  },
  {
   "cell_type": "markdown",
   "id": "85e2dd4e",
   "metadata": {},
   "source": [
    "We're not seeing any change despite substantially increasing estimators. So we'll go with the first one,"
   ]
  },
  {
   "cell_type": "code",
   "execution_count": 26,
   "id": "4d4416d3",
   "metadata": {},
   "outputs": [
    {
     "data": {
      "image/png": "[encoded data removed]",
      "text/plain": [
       "<Figure size 640x480 with 2 Axes>"
      ]
     },
     "metadata": {},
     "output_type": "display_data"
    }
   ],
   "source": [
    "ConfusionMatrixDisplay.from_estimator(rf, X_test, y_test);"
   ]
  },
  {
   "cell_type": "code",
   "execution_count": 27,
   "id": "68a3139f",
   "metadata": {},
   "outputs": [
    {
     "name": "stdout",
     "output_type": "stream",
     "text": [
      "              precision    recall  f1-score   support\n",
      "\n",
      "           0       0.93      0.94      0.93      6508\n",
      "           1       0.95      0.94      0.94      7628\n",
      "\n",
      "    accuracy                           0.94     14136\n",
      "   macro avg       0.94      0.94      0.94     14136\n",
      "weighted avg       0.94      0.94      0.94     14136\n",
      "\n"
     ]
    }
   ],
   "source": [
    "print(classification_report(y_test, pred_rf))"
   ]
  },
  {
   "cell_type": "markdown",
   "id": "a4b4a077",
   "metadata": {},
   "source": [
    "This model is doing way better than our other models, with almost 3 points on our Decision Tree model. We're also seeing less false negatives in this model, which is our goal."
   ]
  },
  {
   "cell_type": "markdown",
   "id": "0abfa03c",
   "metadata": {},
   "source": [
    "## Comparing Best Models"
   ]
  },
  {
   "cell_type": "code",
   "execution_count": 28,
   "id": "f335bb57",
   "metadata": {},
   "outputs": [
    {
     "data": {
      "image/png": "[encoded data removed]",
      "text/plain": [
       "<Figure size 640x480 with 1 Axes>"
      ]
     },
     "metadata": {},
     "output_type": "display_data"
    }
   ],
   "source": [
    "# Compute the false positive rate (FPR) and true positive rate (TPR) for each curve\n",
    "fpr1, tpr1, thresholds1 = metrics.roc_curve(y_test, pred_dtc)\n",
    "fpr2, tpr2, thresholds2 = metrics.roc_curve(y_test, pred_rf)\n",
    "\n",
    "# Compute the area under the curves (AUC) for each curve\n",
    "auc1 = metrics.roc_auc_score(y_test, pred_dtc)\n",
    "auc2 = metrics.roc_auc_score(y_test, pred_rf)\n",
    "\n",
    "# Plot the ROC curves\n",
    "plt.plot(fpr1, tpr1, label='Decision Tree Model (AUC = %0.2f)' % auc1)\n",
    "plt.plot(fpr2, tpr2, label='Random Forest Model (AUC = %0.2f)' % auc2)\n",
    "\n",
    "# Add labels and legend\n",
    "plt.xlabel('False Positive Rate')\n",
    "plt.ylabel('True Positive Rate')\n",
    "plt.title('ROC Curves for Top Models')\n",
    "plt.legend(loc='lower right')\n",
    "\n",
    "# Show the plot\n",
    "plt.show()"
   ]
  },
  {
   "cell_type": "markdown",
   "id": "e78f698a",
   "metadata": {},
   "source": [
    "Comparing the ROC curve for our two better models, we see that Random Forest outperforms Decision Tree when it comes to false positives."
   ]
  },
  {
   "cell_type": "code",
   "execution_count": 31,
   "id": "45e4762f",
   "metadata": {},
   "outputs": [
    {
     "data": {
      "text/plain": [
       "{'model__base_estimator__max_depth': 8}"
      ]
     },
     "execution_count": 31,
     "metadata": {},
     "output_type": "execute_result"
    }
   ],
   "source": [
    "bag_class_decision = BaggingClassifier(base_estimator = DecisionTreeClassifier(random_state=42), n_estimators = 150)\n",
    "bag_pipe = Pipeline([(\"preprocessor\", preprocessor),\n",
    "                      ('model',\n",
    "                       bag_class_decision)])\n",
    "params = {'model__base_estimator__max_depth': np.arange(4,28,4)}\n",
    "cv = GridSearchCV(estimator = bag_pipe, param_grid = params, cv = 5)\n",
    "cv.fit(X_train, y_train)\n",
    "best_model = cv.best_estimator_\n",
    "cv.best_params_"
   ]
  },
  {
   "cell_type": "code",
   "execution_count": null,
   "id": "85f7deb3",
   "metadata": {},
   "outputs": [],
   "source": [
    "cvtree.best_score_"
   ]
  }
 ],
 "metadata": {
  "kernelspec": {
   "display_name": "Python (narnia)",
   "language": "python",
   "name": "narnia"
  },
  "language_info": {
   "codemirror_mode": {
    "name": "ipython",
    "version": 3
   },
   "file_extension": ".py",
   "mimetype": "text/x-python",
   "name": "python",
   "nbconvert_exporter": "python",
   "pygments_lexer": "ipython3",
   "version": "3.10.9"
  }
 },
 "nbformat": 4,
 "nbformat_minor": 5
}
